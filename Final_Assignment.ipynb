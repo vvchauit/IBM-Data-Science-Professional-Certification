{
  "nbformat": 4,
  "nbformat_minor": 0,
  "metadata": {
    "colab": {
      "name": "Final_Assignment.ipynb",
      "private_outputs": true,
      "provenance": [],
      "collapsed_sections": [],
      "toc_visible": true
    },
    "kernelspec": {
      "name": "python3",
      "display_name": "Python 3"
    },
    "language_info": {
      "name": "python"
    }
  },
  "cells": [
    {
      "cell_type": "code",
      "metadata": {
        "id": "q7Er3h-bZVuI"
      },
      "source": [
        ""
      ],
      "execution_count": null,
      "outputs": []
    },
    {
      "cell_type": "markdown",
      "metadata": {
        "id": "ZhqXk7G0ZaG4"
      },
      "source": [
        "#My Jupyter Notebook on IBM Watson Studio"
      ]
    },
    {
      "cell_type": "markdown",
      "metadata": {
        "id": "zyQax4KCZesp"
      },
      "source": [
        "**Chau Van Van**\n",
        "\n",
        "IBM Data Science Professional Certificate"
      ]
    },
    {
      "cell_type": "markdown",
      "metadata": {
        "id": "3_wk7K5ZZu80"
      },
      "source": [
        "I am interested in Data Science because I would love to contribute towards affordable and quality healthcare in the future"
      ]
    },
    {
      "cell_type": "markdown",
      "metadata": {
        "id": "rFpUlykKZ8Yg"
      },
      "source": [
        "###The Fibonacci numbers are the numbers in the following integer sequence.\n",
        "0, 1, 1, 2, 3, 5, 8, 13, 21, 34, 55, 89, 144, ……..\n",
        "\n",
        "In mathematical terms, the sequence Fn of Fibonacci numbers is defined by the recurrence relation \n",
        "\n",
        " Fn = Fn-1 + Fn-2\n",
        "\n",
        " with seed values\n",
        "\n",
        " F0 = 0 and F1 = 1."
      ]
    },
    {
      "cell_type": "code",
      "metadata": {
        "id": "u_cx5Z29aTft"
      },
      "source": [
        "# Function for nth Fibonacci number\n",
        "def Fibonacci(n):\n",
        "  \n",
        "    if n < 0:\n",
        "        print(\"Incorrect input\")# Check if n is 0\n",
        "\n",
        "    elif n == 0: #then it will return 0\n",
        "        return 0\n",
        " \n",
        "    # Check if n is 1,2\n",
        "    # it will return 1\n",
        "    elif n == 1 or n == 2:\n",
        "        return 1\n",
        " \n",
        "    else:\n",
        "        return Fibonacci(n-1) + Fibonacci(n-2)\n",
        " \n",
        "# Driver Program\n",
        "print(\"Output: \",Fibonacci(9))\n",
        " \n"
      ],
      "execution_count": null,
      "outputs": []
    },
    {
      "cell_type": "markdown",
      "metadata": {
        "id": "O9ztHQ2UbE9d"
      },
      "source": [
        "Made with <3 [My Github](https://github.com/vvchauit)"
      ]
    }
  ]
}